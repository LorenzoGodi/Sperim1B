{
 "cells": [
  {
   "cell_type": "markdown",
   "metadata": {},
   "source": [
    "# Volano"
   ]
  },
  {
   "cell_type": "markdown",
   "metadata": {},
   "source": [
    "### Set"
   ]
  },
  {
   "cell_type": "code",
   "execution_count": 1,
   "metadata": {},
   "outputs": [],
   "source": [
    "# import glob\n",
    "import math\n",
    "import numpy as np\n",
    "import pandas as pd\n",
    "import xarray as xr\n",
    "import matplotlib.pyplot as plt\n",
    "import seaborn as sns"
   ]
  },
  {
   "cell_type": "code",
   "execution_count": 2,
   "metadata": {},
   "outputs": [],
   "source": [
    "graph_base_name = '../grafici/graph_'\n",
    "\n",
    "style = ['white', 'dark', 'whitegrid', 'darkgrid', 'ticks'][2]\n",
    "sns.set_style(style)"
   ]
  },
  {
   "cell_type": "code",
   "execution_count": 3,
   "metadata": {},
   "outputs": [
    {
     "name": "stdout",
     "output_type": "stream",
     "text": [
      "  [' 0', ' 1', ' 2', ' 3', ' 4', ' 5']   [' 6', ' 7', ' 8', ' 9', ' 10', ' 11'] ['_12', '_13', '_14', '_15', '_16', '_17']\n"
     ]
    },
    {
     "data": {
      "text/html": [
       "<svg  width=\"990\" height=\"55\"><rect x=\"0\" y=\"0\" width=\"55\" height=\"55\" style=\"fill:#f77189;stroke-width:2;stroke:rgb(255,255,255)\"/><rect x=\"55\" y=\"0\" width=\"55\" height=\"55\" style=\"fill:#f87644;stroke-width:2;stroke:rgb(255,255,255)\"/><rect x=\"110\" y=\"0\" width=\"55\" height=\"55\" style=\"fill:#d58c32;stroke-width:2;stroke:rgb(255,255,255)\"/><rect x=\"165\" y=\"0\" width=\"55\" height=\"55\" style=\"fill:#bb9832;stroke-width:2;stroke:rgb(255,255,255)\"/><rect x=\"220\" y=\"0\" width=\"55\" height=\"55\" style=\"fill:#a4a031;stroke-width:2;stroke:rgb(255,255,255)\"/><rect x=\"275\" y=\"0\" width=\"55\" height=\"55\" style=\"fill:#87a831;stroke-width:2;stroke:rgb(255,255,255)\"/><rect x=\"330\" y=\"0\" width=\"55\" height=\"55\" style=\"fill:#50b131;stroke-width:2;stroke:rgb(255,255,255)\"/><rect x=\"385\" y=\"0\" width=\"55\" height=\"55\" style=\"fill:#33b172;stroke-width:2;stroke:rgb(255,255,255)\"/><rect x=\"440\" y=\"0\" width=\"55\" height=\"55\" style=\"fill:#34ae91;stroke-width:2;stroke:rgb(255,255,255)\"/><rect x=\"495\" y=\"0\" width=\"55\" height=\"55\" style=\"fill:#36ada4;stroke-width:2;stroke:rgb(255,255,255)\"/><rect x=\"550\" y=\"0\" width=\"55\" height=\"55\" style=\"fill:#37abb5;stroke-width:2;stroke:rgb(255,255,255)\"/><rect x=\"605\" y=\"0\" width=\"55\" height=\"55\" style=\"fill:#38a8ca;stroke-width:2;stroke:rgb(255,255,255)\"/><rect x=\"660\" y=\"0\" width=\"55\" height=\"55\" style=\"fill:#3ba3ec;stroke-width:2;stroke:rgb(255,255,255)\"/><rect x=\"715\" y=\"0\" width=\"55\" height=\"55\" style=\"fill:#8a94f4;stroke-width:2;stroke:rgb(255,255,255)\"/><rect x=\"770\" y=\"0\" width=\"55\" height=\"55\" style=\"fill:#bb83f4;stroke-width:2;stroke:rgb(255,255,255)\"/><rect x=\"825\" y=\"0\" width=\"55\" height=\"55\" style=\"fill:#e866f4;stroke-width:2;stroke:rgb(255,255,255)\"/><rect x=\"880\" y=\"0\" width=\"55\" height=\"55\" style=\"fill:#f564d4;stroke-width:2;stroke:rgb(255,255,255)\"/><rect x=\"935\" y=\"0\" width=\"55\" height=\"55\" style=\"fill:#f66bb0;stroke-width:2;stroke:rgb(255,255,255)\"/></svg>"
      ],
      "text/plain": [
       "[(0.9677975592919913, 0.44127456009157356, 0.5358103155058701),\n",
       " (0.9707505829046977, 0.4626541987597626, 0.26486329418330007),\n",
       " (0.8369430560927636, 0.5495828952802333, 0.1952683223448124),\n",
       " (0.7350228985632719, 0.5952719904750953, 0.1944419133847522),\n",
       " (0.6430915736746491, 0.6271955086583126, 0.19381135329796756),\n",
       " (0.5310702086647983, 0.6569113639885688, 0.1931838276161326),\n",
       " (0.3126890019504329, 0.6928754610296064, 0.1923704830330379),\n",
       " (0.1998437102815942, 0.6927711055021983, 0.4485948481767363),\n",
       " (0.20582072623426667, 0.6842209016721069, 0.5675558225732941),\n",
       " (0.21044753832183283, 0.6773105080456748, 0.6433941168468681),\n",
       " (0.2151139535594307, 0.6700707833028816, 0.7112365203426209),\n",
       " (0.22126158707091403, 0.6600977737826563, 0.7915486637100363),\n",
       " (0.23299120924703914, 0.639586552066035, 0.9260706093977744),\n",
       " (0.5392573577708815, 0.5821140171749066, 0.9584212824085171),\n",
       " (0.731751635642941, 0.5128186367840487, 0.9581005178234921),\n",
       " (0.9082572436765556, 0.40195790729656516, 0.9576909250290225),\n",
       " (0.9614880299080136, 0.3909885385134758, 0.8298287106954371),\n",
       " (0.9648889414626248, 0.41896694790705413, 0.692031255809005)]"
      ]
     },
     "execution_count": 3,
     "metadata": {},
     "output_type": "execute_result"
    }
   ],
   "source": [
    "palette = sns.husl_palette(18)\n",
    "print(' ', [' '+str(x) for x in range(6)],' ', [' '+str(x+6) for x in range(6)], ['_'+str(x+12) for x in range(6)])\n",
    "palette"
   ]
  },
  {
   "cell_type": "markdown",
   "metadata": {},
   "source": [
    "### Import"
   ]
  },
  {
   "cell_type": "code",
   "execution_count": 4,
   "metadata": {},
   "outputs": [],
   "source": [
    "df = pd.read_csv('MisureVolano.txt', sep='\\t')"
   ]
  },
  {
   "cell_type": "code",
   "execution_count": 5,
   "metadata": {},
   "outputs": [],
   "source": [
    "arr_acc = df.query('Fase == \"acc\"').Tempo.to_numpy().reshape((10,12))\n",
    "arr_dec = df.query('Fase == \"dec\"').Tempo.to_numpy().reshape((10,6))"
   ]
  },
  {
   "cell_type": "markdown",
   "metadata": {},
   "source": [
    "## Accelerazione"
   ]
  },
  {
   "cell_type": "markdown",
   "metadata": {},
   "source": [
    "### Media"
   ]
  },
  {
   "cell_type": "code",
   "execution_count": 6,
   "metadata": {},
   "outputs": [],
   "source": [
    "def fn_sdom(arr):\n",
    "    mean = np.mean(arr)\n",
    "    sum = np.sum((arr-mean)**2)\n",
    "    std = (sum / (arr.size - 1)) ** .5\n",
    "    return std / (arr.size) ** .5\n"
   ]
  },
  {
   "cell_type": "code",
   "execution_count": 7,
   "metadata": {},
   "outputs": [],
   "source": [
    "acc_mean = arr_acc.mean(axis=0)"
   ]
  },
  {
   "cell_type": "code",
   "execution_count": 8,
   "metadata": {},
   "outputs": [],
   "source": [
    "acc_sdom = np.apply_along_axis(fn_sdom, 0, arr_acc)"
   ]
  },
  {
   "cell_type": "code",
   "execution_count": 9,
   "metadata": {},
   "outputs": [
    {
     "data": {
      "text/plain": [
       "array([15.6802 , 22.4146 , 27.4983 , 31.74836, 35.4952 , 38.96553,\n",
       "       42.1331 , 45.17433, 48.01526, 50.65523, 53.21699, 55.61401])"
      ]
     },
     "execution_count": 9,
     "metadata": {},
     "output_type": "execute_result"
    }
   ],
   "source": [
    "acc_mean"
   ]
  },
  {
   "cell_type": "code",
   "execution_count": 10,
   "metadata": {},
   "outputs": [
    {
     "data": {
      "image/png": "[encoded data removed]",
      "text/plain": [
       "<Figure size 576x432 with 1 Axes>"
      ]
     },
     "metadata": {},
     "output_type": "display_data"
    }
   ],
   "source": [
    "def plot_0acc():    \n",
    "    plt.figure(figsize=(8,6))\n",
    "\n",
    "    plt.errorbar(range(1,13), acc_mean, acc_sdom, fmt='o', capsize=6, color=palette[8], label='Tempo impiegato')\n",
    "\n",
    "    plt.gca().grid(axis='x')\n",
    "\n",
    "    plt.xlabel('Giri del volano completati')\n",
    "    plt.ylabel('Tempo impiegato [s]')\n",
    "\n",
    "    plt.xticks(range(1,13))\n",
    "    \n",
    "    plt.legend(loc='lower right')\n",
    "\n",
    "    plt.savefig('../grafici/graph_acc_tempo', dpi=200)\n",
    "\n",
    "plot_0acc()"
   ]
  },
  {
   "cell_type": "markdown",
   "metadata": {},
   "source": [
    "### Differenza di tempo"
   ]
  },
  {
   "cell_type": "code",
   "execution_count": 11,
   "metadata": {},
   "outputs": [],
   "source": [
    "acc_diff = np.apply_along_axis(\n",
    "    lambda arr: np.convolve(arr, [1,-1], 'same'),\n",
    "    0,\n",
    "    acc_mean\n",
    ")"
   ]
  },
  {
   "cell_type": "code",
   "execution_count": 12,
   "metadata": {},
   "outputs": [
    {
     "data": {
      "text/plain": [
       "array([15.6802 ,  6.7344 ,  5.0837 ,  4.25006,  3.74684,  3.47033,\n",
       "        3.16757,  3.04123,  2.84093,  2.63997,  2.56176,  2.39702])"
      ]
     },
     "execution_count": 12,
     "metadata": {},
     "output_type": "execute_result"
    }
   ],
   "source": [
    "acc_diff"
   ]
  },
  {
   "cell_type": "markdown",
   "metadata": {},
   "source": [
    "#### Errore"
   ]
  },
  {
   "cell_type": "code",
   "execution_count": 13,
   "metadata": {},
   "outputs": [
    {
     "data": {
      "text/plain": [
       "array([0.20478754, 0.21264575, 0.28244198, 0.24068054, 0.22015435,\n",
       "       0.2010395 , 0.21291077, 0.2230632 , 0.22839382, 0.20844398,\n",
       "       0.2206878 , 0.23064632])"
      ]
     },
     "execution_count": 13,
     "metadata": {},
     "output_type": "execute_result"
    }
   ],
   "source": [
    "acc_sdom"
   ]
  },
  {
   "cell_type": "code",
   "execution_count": 14,
   "metadata": {},
   "outputs": [],
   "source": [
    "acc_sdom_roll = np.roll(acc_sdom, 1, axis=0)\n",
    "acc_sdom_roll[0] = 0"
   ]
  },
  {
   "cell_type": "code",
   "execution_count": 15,
   "metadata": {},
   "outputs": [
    {
     "data": {
      "text/plain": [
       "array([0.20478754, 0.29522221, 0.35354163, 0.3710803 , 0.32618255,\n",
       "       0.29813557, 0.29282739, 0.30836373, 0.31925057, 0.30921292,\n",
       "       0.30356548, 0.31921909])"
      ]
     },
     "execution_count": 15,
     "metadata": {},
     "output_type": "execute_result"
    }
   ],
   "source": [
    "acc_diff_sigma = np.sqrt(acc_sdom**2 + acc_sdom_roll**2)\n",
    "acc_diff_sigma"
   ]
  },
  {
   "cell_type": "markdown",
   "metadata": {},
   "source": [
    "### Velocità media angolare"
   ]
  },
  {
   "cell_type": "code",
   "execution_count": 16,
   "metadata": {},
   "outputs": [
    {
     "data": {
      "text/plain": [
       "array([0.40070824, 0.93299853, 1.2359473 , 1.47837567, 1.67692917,\n",
       "       1.81054404, 1.98359793, 2.06600136, 2.21166495, 2.38002148,\n",
       "       2.45268304, 2.62124859])"
      ]
     },
     "execution_count": 16,
     "metadata": {},
     "output_type": "execute_result"
    }
   ],
   "source": [
    "acc_vang = 2 * np.pi / acc_diff\n",
    "acc_vang"
   ]
  },
  {
   "cell_type": "code",
   "execution_count": 17,
   "metadata": {},
   "outputs": [
    {
     "data": {
      "text/plain": [
       "array([0.00523336, 0.04090073, 0.08595291, 0.12907961, 0.14598569,\n",
       "       0.15554359, 0.18337458, 0.209481  , 0.24853668, 0.27876582,\n",
       "       0.29063999, 0.34908036])"
      ]
     },
     "execution_count": 17,
     "metadata": {},
     "output_type": "execute_result"
    }
   ],
   "source": [
    "acc_vang_sig = acc_diff_sigma * 2 * np.pi / acc_diff ** 2\n",
    "acc_vang_sig"
   ]
  },
  {
   "cell_type": "markdown",
   "metadata": {},
   "source": [
    "### Fit"
   ]
  },
  {
   "cell_type": "code",
   "execution_count": 18,
   "metadata": {},
   "outputs": [],
   "source": [
    "def fit(X,Y):\n",
    "    N = X.size\n",
    "    DELTA = N * (X ** 2).sum() - (X.sum()) ** 2\n",
    "    a = ((X**2).sum()*(Y.sum()) - (X.sum())*(X*Y).sum()) / DELTA # q\n",
    "    b = (N*(X*Y).sum() - (X.sum())*(Y.sum())) / DELTA            # m\n",
    "    #\n",
    "    SIGy = ((((a+b*X)-Y)**2).sum()/ (N-2)) ** .5\n",
    "    SIGa = SIGy * ((X**2).sum() / DELTA) ** .5\n",
    "    SIGb = SIGy * (N / DELTA) ** .5\n",
    "    return a, SIGa, b, SIGb"
   ]
  },
  {
   "cell_type": "code",
   "execution_count": 19,
   "metadata": {},
   "outputs": [],
   "source": [
    "def fit_pes(X,Y,Ysig):\n",
    "    Ypes = 1 / Ysig ** 2\n",
    "\n",
    "    N = X.size\n",
    "    DELTA = Ypes.sum()*(Ypes*X**2).sum() - (Ypes*X).sum() ** 2\n",
    "\n",
    "    a = ((Ypes*X**2).sum()*(Ypes*Y).sum() - (Ypes*X).sum()*(Ypes*X*Y).sum()) / DELTA    # q\n",
    "    b = (Ypes.sum()*(Ypes*X*Y).sum() - (Ypes*X).sum()*(Ypes*Y).sum()) / DELTA           # m\n",
    "    #\n",
    "    SIGy = ((((a+b*X)-Y)**2).sum()/ (N-2)) ** .5\n",
    "    SIGa = SIGy * ((X**2).sum() / DELTA) ** .5\n",
    "    SIGb = SIGy * (N / DELTA) ** .5\n",
    "    return a, SIGa, b, SIGb"
   ]
  },
  {
   "cell_type": "code",
   "execution_count": 20,
   "metadata": {},
   "outputs": [],
   "source": [
    "acc_fit = dict(zip(['a', 'SIGa', 'b', 'SIGb'], list(fit(acc_mean, acc_vang))))"
   ]
  },
  {
   "cell_type": "code",
   "execution_count": 21,
   "metadata": {},
   "outputs": [],
   "source": [
    "acc_fit_pes = dict(zip(['a', 'SIGa', 'b', 'SIGb'], list(fit_pes(acc_mean, acc_vang, acc_vang_sig))))"
   ]
  },
  {
   "cell_type": "markdown",
   "metadata": {},
   "source": [
    "### Plot"
   ]
  },
  {
   "cell_type": "code",
   "execution_count": 22,
   "metadata": {},
   "outputs": [
    {
     "data": {
      "image/png": "[encoded data removed]",
      "text/plain": [
       "<Figure size 576x576 with 1 Axes>"
      ]
     },
     "metadata": {},
     "output_type": "display_data"
    }
   ],
   "source": [
    "def plot_1acc():\n",
    "    colors = iter([palette[x] for x in [12,14] ])\n",
    "    \n",
    "    plt.figure(figsize=(8,8))\n",
    "\n",
    "    plt.errorbar(acc_mean, acc_vang, acc_vang_sig, fmt='o', capsize=6, color=next(colors), label='Velocità media angolare')\n",
    "\n",
    "    X = np.linspace(10,60,10000)\n",
    "    Y = [acc_fit['b'] * x + acc_fit['a'] for x in X ]\n",
    "    plt.plot(X,Y, '-', color=next(colors), label='Fit')\n",
    "\n",
    "    plt.gca().grid(axis='x')\n",
    "\n",
    "    plt.xlabel('Tempo istantaneo intermedio [s]')\n",
    "    plt.ylabel('Velocità media angolare volano [rad/s]')\n",
    "\n",
    "    # Legend\n",
    "    order = [1,0]\n",
    "    handles, labels = plt.gca().get_legend_handles_labels()\n",
    "    plt.legend([handles[i] for i in order],[labels[i] for i in order], loc='lower right', ncol=1)\n",
    "\n",
    "    plt.savefig('../grafici/graph_acc_velocita', dpi=200)\n",
    "\n",
    "plot_1acc()"
   ]
  },
  {
   "cell_type": "code",
   "execution_count": 23,
   "metadata": {},
   "outputs": [
    {
     "data": {
      "image/png": "[encoded data removed]",
      "text/plain": [
       "<Figure size 576x576 with 1 Axes>"
      ]
     },
     "metadata": {},
     "output_type": "display_data"
    }
   ],
   "source": [
    "def plot_1acc():\n",
    "    colors = iter([palette[x] for x in [12,16,14] ])\n",
    "    \n",
    "    plt.figure(figsize=(8,8))\n",
    "\n",
    "    plt.errorbar(acc_mean, acc_vang, acc_vang_sig, fmt='o', capsize=6, color=next(colors), label='Velocità media angolare')\n",
    "\n",
    "    X = np.linspace(10,60,10000)\n",
    "    Y = [acc_fit['b'] * x + acc_fit['a'] for x in X ]\n",
    "    plt.plot(X,Y, '--', color=next(colors), label='Fit')\n",
    "\n",
    "    X = np.linspace(10,60,10000)\n",
    "    Y = [acc_fit_pes['b'] * x + acc_fit_pes['a'] for x in X ]\n",
    "    plt.plot(X,Y, color=next(colors), label='Fit con pesi')\n",
    "\n",
    "    plt.gca().grid(axis='x')\n",
    "\n",
    "    plt.xlabel('Tempo istantaneo intermedio [s]')\n",
    "    plt.ylabel('Velocità media angolare volano [rad/s]')\n",
    "\n",
    "    # Legend\n",
    "    order = [2,0,1]\n",
    "    handles, labels = plt.gca().get_legend_handles_labels()\n",
    "    plt.legend([handles[i] for i in order],[labels[i] for i in order], loc='lower right', ncol=1)\n",
    "\n",
    "plot_1acc()"
   ]
  },
  {
   "cell_type": "code",
   "execution_count": 24,
   "metadata": {},
   "outputs": [
    {
     "data": {
      "text/plain": [
       "0.05220514895130838"
      ]
     },
     "execution_count": 24,
     "metadata": {},
     "output_type": "execute_result"
    }
   ],
   "source": [
    "alpha = acc_fit['b']\n",
    "alpha_sig = acc_fit['SIGb']\n",
    "alpha"
   ]
  },
  {
   "cell_type": "code",
   "execution_count": 25,
   "metadata": {},
   "outputs": [],
   "source": [
    "# alpha = acc_fit_pes['b']\n",
    "# alpha_sig = acc_fit_pes['SIGb']\n",
    "# alpha"
   ]
  },
  {
   "cell_type": "markdown",
   "metadata": {},
   "source": [
    "## Decelerazione"
   ]
  },
  {
   "cell_type": "code",
   "execution_count": 26,
   "metadata": {},
   "outputs": [],
   "source": [
    "dec_mean = arr_dec.mean(axis=0)"
   ]
  },
  {
   "cell_type": "code",
   "execution_count": 27,
   "metadata": {},
   "outputs": [],
   "source": [
    "dec_sdom = np.apply_along_axis(fn_sdom, 0, arr_dec)"
   ]
  },
  {
   "cell_type": "code",
   "execution_count": 28,
   "metadata": {},
   "outputs": [
    {
     "data": {
      "text/plain": [
       "array([ 22.43553,  46.34538,  71.05057,  96.60485, 123.0658 , 150.54508])"
      ]
     },
     "execution_count": 28,
     "metadata": {},
     "output_type": "execute_result"
    }
   ],
   "source": [
    "dec_mean"
   ]
  },
  {
   "cell_type": "code",
   "execution_count": 29,
   "metadata": {},
   "outputs": [
    {
     "data": {
      "text/plain": [
       "array([0.44246689, 0.33247214, 0.30872754, 0.26404082, 0.26759854,\n",
       "       0.21121169])"
      ]
     },
     "execution_count": 29,
     "metadata": {},
     "output_type": "execute_result"
    }
   ],
   "source": [
    "dec_sdom"
   ]
  },
  {
   "cell_type": "code",
   "execution_count": 30,
   "metadata": {},
   "outputs": [
    {
     "data": {
      "image/png": "[encoded data removed]",
      "text/plain": [
       "<Figure size 576x432 with 1 Axes>"
      ]
     },
     "metadata": {},
     "output_type": "display_data"
    }
   ],
   "source": [
    "def plot_0dec():    \n",
    "    plt.figure(figsize=(8,6))\n",
    "\n",
    "    plt.errorbar(range(1,7), dec_mean, dec_sdom, fmt='o', capsize=6, color=palette[8], label='Tempo impiegato')\n",
    "\n",
    "    plt.gca().grid(axis='x')\n",
    "\n",
    "    plt.xlabel('Giri del volano completati')\n",
    "    plt.ylabel('Tempo impiegato [s]')\n",
    "\n",
    "    plt.xticks(range(1,7),range(10,70,10))\n",
    "    \n",
    "    plt.legend(loc='lower right')\n",
    "\n",
    "    plt.savefig('../grafici/graph_dec_tempo', dpi=200)\n",
    "\n",
    "plot_0dec()"
   ]
  },
  {
   "cell_type": "markdown",
   "metadata": {},
   "source": [
    "### Differenza di tempo"
   ]
  },
  {
   "cell_type": "code",
   "execution_count": 31,
   "metadata": {},
   "outputs": [],
   "source": [
    "dec_diff = np.apply_along_axis(\n",
    "    lambda arr: np.convolve(arr, [1,-1], 'same'),\n",
    "    0,\n",
    "    dec_mean\n",
    ")"
   ]
  },
  {
   "cell_type": "code",
   "execution_count": 32,
   "metadata": {},
   "outputs": [
    {
     "data": {
      "text/plain": [
       "array([22.43553, 23.90985, 24.70519, 25.55428, 26.46095, 27.47928])"
      ]
     },
     "execution_count": 32,
     "metadata": {},
     "output_type": "execute_result"
    }
   ],
   "source": [
    "dec_diff"
   ]
  },
  {
   "cell_type": "markdown",
   "metadata": {},
   "source": [
    "#### Errore"
   ]
  },
  {
   "cell_type": "code",
   "execution_count": 33,
   "metadata": {},
   "outputs": [],
   "source": [
    "dec_sdom_roll = np.roll(dec_sdom, 1, axis=0)\n",
    "dec_sdom_roll[0] = 0"
   ]
  },
  {
   "cell_type": "code",
   "execution_count": 34,
   "metadata": {},
   "outputs": [
    {
     "data": {
      "text/plain": [
       "array([0.44246689, 0.55345702, 0.45370742, 0.40623915, 0.37593421,\n",
       "       0.3409096 ])"
      ]
     },
     "execution_count": 34,
     "metadata": {},
     "output_type": "execute_result"
    }
   ],
   "source": [
    "dec_diff_sigma = np.sqrt(dec_sdom**2 + dec_sdom_roll**2)\n",
    "dec_diff_sigma"
   ]
  },
  {
   "cell_type": "markdown",
   "metadata": {},
   "source": [
    "### Velocità angolare"
   ]
  },
  {
   "cell_type": "code",
   "execution_count": 35,
   "metadata": {},
   "outputs": [
    {
     "data": {
      "text/plain": [
       "array([2.80055132, 2.6278648 , 2.54326532, 2.45876045, 2.37451237,\n",
       "       2.28651744])"
      ]
     },
     "execution_count": 35,
     "metadata": {},
     "output_type": "execute_result"
    }
   ],
   "source": [
    "dec_vang = 2 * 10 * np.pi / dec_diff\n",
    "dec_vang"
   ]
  },
  {
   "cell_type": "code",
   "execution_count": 36,
   "metadata": {},
   "outputs": [
    {
     "data": {
      "text/plain": [
       "array([0.00552316, 0.00608289, 0.00467067, 0.00390872, 0.0033735 ,\n",
       "       0.00283667])"
      ]
     },
     "execution_count": 36,
     "metadata": {},
     "output_type": "execute_result"
    }
   ],
   "source": [
    "dec_vang_sig = dec_diff_sigma * 2 * np.pi / dec_diff ** 2\n",
    "dec_vang_sig"
   ]
  },
  {
   "cell_type": "markdown",
   "metadata": {},
   "source": [
    "### Fit"
   ]
  },
  {
   "cell_type": "code",
   "execution_count": 37,
   "metadata": {},
   "outputs": [],
   "source": [
    "dec_fit = dict(zip(['a', 'SIGa', 'b', 'SIGb'], list(fit(dec_mean, dec_vang))))"
   ]
  },
  {
   "cell_type": "code",
   "execution_count": 38,
   "metadata": {},
   "outputs": [],
   "source": [
    "dec_fit_pes = dict(zip(['a', 'SIGa', 'b', 'SIGb'], list(fit_pes(dec_mean, dec_vang, dec_vang_sig))))"
   ]
  },
  {
   "cell_type": "markdown",
   "metadata": {},
   "source": [
    "### Plot"
   ]
  },
  {
   "cell_type": "code",
   "execution_count": 39,
   "metadata": {},
   "outputs": [
    {
     "data": {
      "image/png": "[encoded data removed]",
      "text/plain": [
       "<Figure size 576x576 with 1 Axes>"
      ]
     },
     "metadata": {},
     "output_type": "display_data"
    }
   ],
   "source": [
    "def plot_1dec():\n",
    "    colors = iter([palette[x] for x in [12,14] ])\n",
    "    \n",
    "    plt.figure(figsize=(8,8))\n",
    "\n",
    "    plt.errorbar(dec_mean, dec_vang, dec_vang_sig, fmt='o', capsize=6, color=next(colors), label='Velocità media angolare')\n",
    "\n",
    "    X = np.linspace(0,160,10000)\n",
    "    Y = [dec_fit['b'] * x + dec_fit['a'] for x in X ]\n",
    "    plt.plot(X,Y, '-', color=next(colors), label='Fit')\n",
    "\n",
    "    plt.gca().grid(axis='x')\n",
    "\n",
    "    plt.xlabel('Tempo istantaneo intermedio [s]')\n",
    "    plt.ylabel('Velocità media angolare volano [rad/s]')\n",
    "\n",
    "    # Legend\n",
    "    order = [1,0]\n",
    "    handles, labels = plt.gca().get_legend_handles_labels()\n",
    "    plt.legend([handles[i] for i in order],[labels[i] for i in order], loc='upper right', ncol=1)\n",
    "\n",
    "    plt.savefig('../grafici/graph_dec_velocita', dpi=200)\n",
    "\n",
    "plot_1dec()"
   ]
  },
  {
   "cell_type": "code",
   "execution_count": 40,
   "metadata": {},
   "outputs": [
    {
     "data": {
      "image/png": "[encoded data removed]",
      "text/plain": [
       "<Figure size 576x576 with 1 Axes>"
      ]
     },
     "metadata": {},
     "output_type": "display_data"
    }
   ],
   "source": [
    "def plot_1dec():\n",
    "    colors = iter([palette[x] for x in [12,16,14] ])\n",
    "    \n",
    "    plt.figure(figsize=(8,8))\n",
    "\n",
    "    plt.errorbar(dec_mean, dec_vang, dec_vang_sig, fmt='o', capsize=6, color=next(colors), label='Velocità media angolare')\n",
    "\n",
    "    X = np.linspace(0,160,10000)\n",
    "    Y = [dec_fit['b'] * x + dec_fit['a'] for x in X ]\n",
    "    plt.plot(X,Y, '--', color=next(colors), label='Fit')\n",
    "\n",
    "    X = np.linspace(0,160,10000)\n",
    "    Y = [dec_fit_pes['b'] * x + dec_fit_pes['a'] for x in X ]\n",
    "    plt.plot(X,Y, color=next(colors), label='Fit con pesi')\n",
    "\n",
    "    plt.gca().grid(axis='x')\n",
    "\n",
    "    plt.xlabel('Tempo istantaneo intermedio [s]')\n",
    "    plt.ylabel('Velocità media angolare volano [rad/s]')\n",
    "\n",
    "    # Legend\n",
    "    order = [2,0,1]\n",
    "    handles, labels = plt.gca().get_legend_handles_labels()\n",
    "    plt.legend([handles[i] for i in order],[labels[i] for i in order], loc='upper right', ncol=1)\n",
    "\n",
    "plot_1dec()"
   ]
  },
  {
   "cell_type": "code",
   "execution_count": 41,
   "metadata": {},
   "outputs": [
    {
     "data": {
      "text/plain": [
       "-0.00379683609756498"
      ]
     },
     "execution_count": 41,
     "metadata": {},
     "output_type": "execute_result"
    }
   ],
   "source": [
    "beta = dec_fit['b']\n",
    "beta_sig = dec_fit['SIGb']\n",
    "beta"
   ]
  },
  {
   "cell_type": "code",
   "execution_count": 42,
   "metadata": {},
   "outputs": [],
   "source": [
    "# beta = dec_fit_pes['b']\n",
    "# beta_sig = dec_fit_pes['SIGb']\n",
    "# beta"
   ]
  },
  {
   "cell_type": "markdown",
   "metadata": {},
   "source": [
    "## Calcolo I"
   ]
  },
  {
   "cell_type": "code",
   "execution_count": 61,
   "metadata": {},
   "outputs": [],
   "source": [
    "m = 34 / 1000\n",
    "m_sig = 0.5 / 1000\n",
    "\n",
    "r = 18.95 / 1000\n",
    "r_sig = 0.01 / 1000\n",
    "\n",
    "g = 9.806\n",
    "g_sig = 0.0001"
   ]
  },
  {
   "cell_type": "code",
   "execution_count": 62,
   "metadata": {},
   "outputs": [
    {
     "data": {
      "text/plain": [
       "0.1128061513623801"
      ]
     },
     "execution_count": 62,
     "metadata": {},
     "output_type": "execute_result"
    }
   ],
   "source": [
    "momento_volano = (m*r*g - alpha*m*r**2)/(alpha-beta)\n",
    "momento_volano"
   ]
  },
  {
   "cell_type": "code",
   "execution_count": 63,
   "metadata": {},
   "outputs": [
    {
     "data": {
      "text/plain": [
       "0.003923558209904685"
      ]
     },
     "execution_count": 63,
     "metadata": {},
     "output_type": "execute_result"
    }
   ],
   "source": [
    "partials = []\n",
    "\n",
    "partials.append((r*(g-alpha*r)*m_sig/(alpha-beta))**2)\n",
    "partials.append((m*(g-2*alpha*r)*r_sig/(alpha-beta))**2)\n",
    "partials.append((m*r*g_sig/(alpha-beta))**2)\n",
    "partials.append((m*r*(beta*r-g)*alpha_sig/(alpha-beta)**2)**2)\n",
    "partials.append((m*r*(g-alpha*r)*beta_sig/(alpha-beta)**2)**2)\n",
    "\n",
    "momento_volano_sig = sum(partials) ** .5\n",
    "momento_volano_sig"
   ]
  },
  {
   "cell_type": "markdown",
   "metadata": {},
   "source": [
    "## Calcolo Ma"
   ]
  },
  {
   "cell_type": "code",
   "execution_count": 46,
   "metadata": {},
   "outputs": [
    {
     "data": {
      "text/plain": [
       "0.0004283064675200637"
      ]
     },
     "execution_count": 46,
     "metadata": {},
     "output_type": "execute_result"
    }
   ],
   "source": [
    "momento_attrito = - beta * momento_volano\n",
    "momento_attrito"
   ]
  },
  {
   "cell_type": "code",
   "execution_count": 47,
   "metadata": {},
   "outputs": [
    {
     "data": {
      "text/plain": [
       "3.88371072026586e-05"
      ]
     },
     "execution_count": 47,
     "metadata": {},
     "output_type": "execute_result"
    }
   ],
   "source": [
    "momento_attrito_sig = ( (beta*momento_volano_sig)**2 + (momento_volano*beta_sig)**2 ) ** .5\n",
    "momento_attrito_sig"
   ]
  },
  {
   "cell_type": "markdown",
   "metadata": {},
   "source": [
    "## Confronto"
   ]
  },
  {
   "cell_type": "code",
   "execution_count": 48,
   "metadata": {},
   "outputs": [],
   "source": [
    "momento_volano_riferimento = 0.164\n",
    "momento_volano_riferimento_sig = 0.001"
   ]
  },
  {
   "cell_type": "code",
   "execution_count": 68,
   "metadata": {},
   "outputs": [
    {
     "data": {
      "image/png": "[encoded data removed]",
      "text/plain": [
       "<Figure size 576x360 with 1 Axes>"
      ]
     },
     "metadata": {},
     "output_type": "display_data"
    }
   ],
   "source": [
    "def plot4():\n",
    "    X = [0, 1]\n",
    "    Xlab = ['$I$', '$I_{Stimato}$']\n",
    "\n",
    "    Y = [momento_volano_riferimento, momento_volano]\n",
    "    Yerr = [momento_volano_riferimento_sig, momento_volano_sig]\n",
    "\n",
    "    plt.figure(figsize=(8,5))\n",
    "\n",
    "    plt.errorbar([0], Y[0], Yerr[0], fmt='*', capsize=6, color=palette[6], label='$I$')\n",
    "    plt.errorbar([1], Y[1], Yerr[1], fmt='o', capsize=6, color=palette[12], label='$I_{Stimato}$')\n",
    "\n",
    "    plt.gca().grid(axis='x')\n",
    "\n",
    "    plt.xlim(-.6,1.6)\n",
    "    plt.ylim(0.1,0.17)\n",
    "\n",
    "    plt.xticks(X, Xlab)\n",
    "    plt.ylabel('Momento di inerzia [$kg \\\\cdot m^2$]')\n",
    "\n",
    "    plt.legend(loc='upper right')\n",
    "    \n",
    "    plt.savefig(graph_base_name+'stima_I', dpi=200)\n",
    "\n",
    "plot4()"
   ]
  }
 ],
 "metadata": {
  "interpreter": {
   "hash": "ef9d2e2c39c8bbaaac17213ec19f6441f3cdbbb893e1093155d427e0145955e7"
  },
  "kernelspec": {
   "display_name": "Python 3.10.0 ('sperimB')",
   "language": "python",
   "name": "python3"
  },
  "language_info": {
   "codemirror_mode": {
    "name": "ipython",
    "version": 3
   },
   "file_extension": ".py",
   "mimetype": "text/x-python",
   "name": "python",
   "nbconvert_exporter": "python",
   "pygments_lexer": "ipython3",
   "version": "3.10.0"
  },
  "orig_nbformat": 4
 },
 "nbformat": 4,
 "nbformat_minor": 2
}
