{
 "cells": [
  {
   "cell_type": "markdown",
   "metadata": {},
   "source": [
    "# Viscosimetro"
   ]
  },
  {
   "cell_type": "markdown",
   "metadata": {},
   "source": [
    "## Set"
   ]
  },
  {
   "cell_type": "code",
   "execution_count": 2,
   "metadata": {},
   "outputs": [],
   "source": [
    "import glob\n",
    "import math\n",
    "import numpy as np\n",
    "import pandas as pd\n",
    "import xarray as xr\n",
    "import matplotlib.pyplot as plt\n",
    "import seaborn as sns"
   ]
  },
  {
   "cell_type": "code",
   "execution_count": 3,
   "metadata": {},
   "outputs": [],
   "source": [
    "graph_base_name = '../grafici/graph_'\n",
    "\n",
    "style = ['white', 'dark', 'whitegrid', 'darkgrid', 'ticks'][2]\n",
    "sns.set_style(style)"
   ]
  },
  {
   "cell_type": "code",
   "execution_count": 4,
   "metadata": {},
   "outputs": [
    {
     "name": "stdout",
     "output_type": "stream",
     "text": [
      "  [' 0', ' 1', ' 2', ' 3', ' 4', ' 5']   [' 6', ' 7', ' 8', ' 9', ' 10', ' 11'] ['_12', '_13', '_14', '_15', '_16', '_17'] ['18', '19', '20', '21', '22', '23']\n"
     ]
    },
    {
     "data": {
      "text/html": [
       "<svg  width=\"1320\" height=\"55\"><rect x=\"0\" y=\"0\" width=\"55\" height=\"55\" style=\"fill:#f77189;stroke-width:2;stroke:rgb(255,255,255)\"/><rect x=\"55\" y=\"0\" width=\"55\" height=\"55\" style=\"fill:#f7755d;stroke-width:2;stroke:rgb(255,255,255)\"/><rect x=\"110\" y=\"0\" width=\"55\" height=\"55\" style=\"fill:#e68332;stroke-width:2;stroke:rgb(255,255,255)\"/><rect x=\"165\" y=\"0\" width=\"55\" height=\"55\" style=\"fill:#ce9032;stroke-width:2;stroke:rgb(255,255,255)\"/><rect x=\"220\" y=\"0\" width=\"55\" height=\"55\" style=\"fill:#bb9832;stroke-width:2;stroke:rgb(255,255,255)\"/><rect x=\"275\" y=\"0\" width=\"55\" height=\"55\" style=\"fill:#aa9e31;stroke-width:2;stroke:rgb(255,255,255)\"/><rect x=\"330\" y=\"0\" width=\"55\" height=\"55\" style=\"fill:#97a431;stroke-width:2;stroke:rgb(255,255,255)\"/><rect x=\"385\" y=\"0\" width=\"55\" height=\"55\" style=\"fill:#7eaa31;stroke-width:2;stroke:rgb(255,255,255)\"/><rect x=\"440\" y=\"0\" width=\"55\" height=\"55\" style=\"fill:#50b131;stroke-width:2;stroke:rgb(255,255,255)\"/><rect x=\"495\" y=\"0\" width=\"55\" height=\"55\" style=\"fill:#32b166;stroke-width:2;stroke:rgb(255,255,255)\"/><rect x=\"550\" y=\"0\" width=\"55\" height=\"55\" style=\"fill:#34af84;stroke-width:2;stroke:rgb(255,255,255)\"/><rect x=\"605\" y=\"0\" width=\"55\" height=\"55\" style=\"fill:#35ae96;stroke-width:2;stroke:rgb(255,255,255)\"/><rect x=\"660\" y=\"0\" width=\"55\" height=\"55\" style=\"fill:#36ada4;stroke-width:2;stroke:rgb(255,255,255)\"/><rect x=\"715\" y=\"0\" width=\"55\" height=\"55\" style=\"fill:#37abb1;stroke-width:2;stroke:rgb(255,255,255)\"/><rect x=\"770\" y=\"0\" width=\"55\" height=\"55\" style=\"fill:#38aabf;stroke-width:2;stroke:rgb(255,255,255)\"/><rect x=\"825\" y=\"0\" width=\"55\" height=\"55\" style=\"fill:#39a7d0;stroke-width:2;stroke:rgb(255,255,255)\"/><rect x=\"880\" y=\"0\" width=\"55\" height=\"55\" style=\"fill:#3ba3ec;stroke-width:2;stroke:rgb(255,255,255)\"/><rect x=\"935\" y=\"0\" width=\"55\" height=\"55\" style=\"fill:#7a98f4;stroke-width:2;stroke:rgb(255,255,255)\"/><rect x=\"990\" y=\"0\" width=\"55\" height=\"55\" style=\"fill:#a48cf4;stroke-width:2;stroke:rgb(255,255,255)\"/><rect x=\"1045\" y=\"0\" width=\"55\" height=\"55\" style=\"fill:#c67df4;stroke-width:2;stroke:rgb(255,255,255)\"/><rect x=\"1100\" y=\"0\" width=\"55\" height=\"55\" style=\"fill:#e866f4;stroke-width:2;stroke:rgb(255,255,255)\"/><rect x=\"1155\" y=\"0\" width=\"55\" height=\"55\" style=\"fill:#f561dd;stroke-width:2;stroke:rgb(255,255,255)\"/><rect x=\"1210\" y=\"0\" width=\"55\" height=\"55\" style=\"fill:#f668c2;stroke-width:2;stroke:rgb(255,255,255)\"/><rect x=\"1265\" y=\"0\" width=\"55\" height=\"55\" style=\"fill:#f66ca8;stroke-width:2;stroke:rgb(255,255,255)\"/></svg>"
      ],
      "text/plain": [
       "[(0.9677975592919913, 0.44127456009157356, 0.5358103155058701),\n",
       " (0.9699521567340649, 0.4569882390259858, 0.36385324448493633),\n",
       " (0.903599057664843, 0.511987276335809, 0.19588350060161624),\n",
       " (0.8087954113106306, 0.5634700050056693, 0.19502642696727285),\n",
       " (0.7350228985632719, 0.5952719904750953, 0.1944419133847522),\n",
       " (0.6666319352625271, 0.6197366714155128, 0.19396267878823373),\n",
       " (0.5920891529639701, 0.6418467016378244, 0.1935069134991043),\n",
       " (0.49382662140640926, 0.6649121332643736, 0.19300804648700284),\n",
       " (0.3126890019504329, 0.6928754610296064, 0.1923704830330379),\n",
       " (0.19783576093349015, 0.6955516966063037, 0.3995301037444499),\n",
       " (0.20312757197899856, 0.6881249249803418, 0.5177618167447304),\n",
       " (0.20703735729643508, 0.6824290013722435, 0.5885318893529169),\n",
       " (0.21044753832183283, 0.6773105080456748, 0.6433941168468681),\n",
       " (0.21387918628643265, 0.6720135434784761, 0.693961140878689),\n",
       " (0.21786710662428366, 0.6656671601322255, 0.7482809385065813),\n",
       " (0.22335772267769388, 0.6565792317435265, 0.8171355503265633),\n",
       " (0.23299120924703914, 0.639586552066035, 0.9260706093977744),\n",
       " (0.4768773964929644, 0.5974418160509446, 0.9584992622400258),\n",
       " (0.6423044349219739, 0.5497680051256467, 0.9582651433656727),\n",
       " (0.774710828527837, 0.49133823414365724, 0.9580114121137316),\n",
       " (0.9082572436765556, 0.40195790729656516, 0.9576909250290225),\n",
       " (0.9603888539940703, 0.3814317878772117, 0.8683117650835491),\n",
       " (0.9633321742064956, 0.40643825645731757, 0.7592537599568671),\n",
       " (0.9656056642634557, 0.4245907603266889, 0.6579786740552919)]"
      ]
     },
     "execution_count": 4,
     "metadata": {},
     "output_type": "execute_result"
    }
   ],
   "source": [
    "palette = sns.husl_palette(24)\n",
    "print(' ', [' '+str(x) for x in range(6)],' ', [' '+str(x+6) for x in range(6)], ['_'+str(x+12) for x in range(6)], [str(x+18) for x in range(6)])\n",
    "palette"
   ]
  },
  {
   "cell_type": "markdown",
   "metadata": {},
   "source": [
    "## FN"
   ]
  },
  {
   "cell_type": "code",
   "execution_count": 5,
   "metadata": {},
   "outputs": [],
   "source": [
    "def fn_sdom(arr):\n",
    "    mean = np.mean(arr)\n",
    "    sum = np.sum((arr-mean)**2)\n",
    "    std = (sum / (arr.size - 1)) ** .5\n",
    "    return std / (arr.size) ** .5"
   ]
  },
  {
   "cell_type": "code",
   "execution_count": 6,
   "metadata": {},
   "outputs": [],
   "source": [
    "def fit(X,Y):\n",
    "    N = X.size\n",
    "    DELTA = N * (X ** 2).sum() - (X.sum()) ** 2\n",
    "    a = ((X**2).sum()*(Y.sum()) - (X.sum())*(X*Y).sum()) / DELTA # q\n",
    "    b = (N*(X*Y).sum() - (X.sum())*(Y.sum())) / DELTA            # m\n",
    "    #\n",
    "    SIGy = ((((a+b*X)-Y)**2).sum()/ (N-2)) ** .5\n",
    "    SIGa = SIGy * ((X**2).sum() / DELTA) ** .5\n",
    "    SIGb = SIGy * (N / DELTA) ** .5\n",
    "    return a, SIGa, b, SIGb"
   ]
  },
  {
   "cell_type": "markdown",
   "metadata": {},
   "source": [
    "## Data"
   ]
  },
  {
   "cell_type": "code",
   "execution_count": 7,
   "metadata": {},
   "outputs": [
    {
     "data": {
      "text/plain": [
       "array([0.0015    , 0.0015875 , 0.002     , 0.00238125, 0.003175  ,\n",
       "       0.00396875, 0.0047625 , 0.00555625, 0.00635   , 0.00714375])"
      ]
     },
     "execution_count": 7,
     "metadata": {},
     "output_type": "execute_result"
    }
   ],
   "source": [
    "pc_to_mm = lambda pc: pc * 25.4\n",
    "\n",
    "diametri = [1.5]\n",
    "diametri.append(pc_to_mm(2/32))\n",
    "diametri.append(2)\n",
    "\n",
    "pcs = [3,4,5,6,7,8,9]\n",
    "mms = [pc_to_mm(x/32) for x in pcs]\n",
    "\n",
    "diametri = diametri + mms\n",
    "diametri_sig = 0.001 / 100\n",
    "\n",
    "diametri = np.array(diametri)\n",
    "diametri = diametri / 1000\n",
    "diametri"
   ]
  },
  {
   "cell_type": "code",
   "execution_count": 8,
   "metadata": {},
   "outputs": [],
   "source": [
    "rho_acciaio = 7.870 * 1000\n",
    "rho_acciaio_sig = 0.005 * 1000\n",
    "\n",
    "rho_liquido = 1.032 * 1000\n",
    "rho_liquido_sig = 0.001 * 1000\n",
    "\n",
    "acc_gravita = 9.806\n",
    "acc_gravita_sig = 0.001\n",
    "\n",
    "cronometro_sig = 0.00005"
   ]
  },
  {
   "cell_type": "markdown",
   "metadata": {},
   "source": [
    "## A"
   ]
  },
  {
   "cell_type": "markdown",
   "metadata": {},
   "source": [
    "### Import"
   ]
  },
  {
   "cell_type": "code",
   "execution_count": 9,
   "metadata": {},
   "outputs": [],
   "source": [
    "fA = glob.glob('./misure/A*')\n",
    "\n",
    "lA = [np.genfromtxt(f).T for f in fA]"
   ]
  },
  {
   "cell_type": "markdown",
   "metadata": {},
   "source": [
    "### Medie"
   ]
  },
  {
   "cell_type": "code",
   "execution_count": 10,
   "metadata": {},
   "outputs": [
    {
     "data": {
      "text/plain": [
       "[array([  0.     ,  25.5113 ,  51.17758,  76.79378, 102.45284, 127.99312,\n",
       "        153.9262 , 179.6028 , 205.32128, 230.89884, 256.59858]),\n",
       " array([  0.     ,  21.91378,  43.96468,  66.06248,  88.27556, 110.29392,\n",
       "        132.3635 , 154.5366 , 176.82284, 198.98046, 221.27404]),\n",
       " array([  0.     ,  14.17108,  28.36666,  42.57412,  56.88004,  71.1135 ,\n",
       "         85.41686,  99.62726, 113.87266, 128.0144 , 142.46558]),\n",
       " array([ 0.     ,  9.60452, 19.32586, 29.1184 , 38.75368, 48.55176,\n",
       "        58.30356, 68.0564 , 77.84786, 87.55404, 97.46294])]"
      ]
     },
     "execution_count": 10,
     "metadata": {},
     "output_type": "execute_result"
    }
   ],
   "source": [
    "mA = [x.mean(axis=0) for x in lA]\n",
    "mA"
   ]
  },
  {
   "cell_type": "code",
   "execution_count": 11,
   "metadata": {},
   "outputs": [
    {
     "data": {
      "text/plain": [
       "[array([0.        , 0.07599596, 0.18616438, 0.16412906, 0.117919  ,\n",
       "        0.13955102, 0.22453285, 0.21814309, 0.25980308, 0.23645421,\n",
       "        0.27378009]),\n",
       " array([0.        , 0.14323426, 0.18543818, 0.25627706, 0.27323366,\n",
       "        0.40660006, 0.47250798, 0.49008238, 0.62209734, 0.65593439,\n",
       "        0.68322039]),\n",
       " array([0.        , 0.07394351, 0.08734515, 0.1255111 , 0.14097754,\n",
       "        0.1883715 , 0.25642615, 0.2684293 , 0.28526669, 0.23471603,\n",
       "        0.36038498]),\n",
       " array([0.        , 0.04895899, 0.07867371, 0.12044228, 0.14879863,\n",
       "        0.16229348, 0.21624608, 0.22131392, 0.25969751, 0.29100492,\n",
       "        0.3015565 ])]"
      ]
     },
     "execution_count": 11,
     "metadata": {},
     "output_type": "execute_result"
    }
   ],
   "source": [
    "mA_sig = [np.apply_along_axis(fn_sdom, 0, x) for x in lA]\n",
    "mA_sig"
   ]
  },
  {
   "cell_type": "markdown",
   "metadata": {},
   "source": [
    "### Fit velocità"
   ]
  },
  {
   "cell_type": "code",
   "execution_count": 15,
   "metadata": {},
   "outputs": [
    {
     "data": {
      "text/plain": [
       "[(-0.15967818181819862,\n",
       "  0.05835579494382673,\n",
       "  513.4664654545455,\n",
       "  0.19727859353936003),\n",
       " (-0.2396299999999285,\n",
       "  0.07980321801624594,\n",
       "  442.5904690909089,\n",
       "  0.2697841169898306),\n",
       " (-0.08445272727272851,\n",
       "  0.03645809509608125,\n",
       "  284.88405090909083,\n",
       "  0.12325085675899972),\n",
       " (-0.13393727272727088,\n",
       "  0.04308837365788208,\n",
       "  194.9281199999999,\n",
       "  0.14566528930516467)]"
      ]
     },
     "execution_count": 15,
     "metadata": {},
     "output_type": "execute_result"
    }
   ],
   "source": [
    "distsA = np.array([x*5/100 for x in range(0,11)])\n",
    "\n",
    "fitsA = [fit(distsA,x) for x in mA]\n",
    "fitsA"
   ]
  },
  {
   "cell_type": "code",
   "execution_count": 16,
   "metadata": {},
   "outputs": [
    {
     "data": {
      "text/plain": [
       "[0.0019475468551091283,\n",
       " 0.002259425066368969,\n",
       " 0.003510200015792072,\n",
       " 0.005130096160574475]"
      ]
     },
     "execution_count": 16,
     "metadata": {},
     "output_type": "execute_result"
    }
   ],
   "source": [
    "vlA = [1/x for x in [y[2] for y in fitsA]]\n",
    "vlA"
   ]
  },
  {
   "cell_type": "code",
   "execution_count": 17,
   "metadata": {},
   "outputs": [
    {
     "data": {
      "text/plain": [
       "[7.482656225422859e-07,\n",
       " 1.3772483571259135e-06,\n",
       " 1.518635943153887e-06,\n",
       " 3.8336025679280945e-06]"
      ]
     },
     "execution_count": 17,
     "metadata": {},
     "output_type": "execute_result"
    }
   ],
   "source": [
    "vlA_sig = []\n",
    "\n",
    "for i in range(len(vlA)):\n",
    "    x = fitsA[i][2]\n",
    "    x_sig = fitsA[i][3]\n",
    "\n",
    "    s = x_sig / x**2\n",
    "    vlA_sig.append(s)\n",
    "\n",
    "vlA_sig\n",
    "    "
   ]
  },
  {
   "cell_type": "markdown",
   "metadata": {},
   "source": [
    "### Plot velocità limite"
   ]
  },
  {
   "cell_type": "code",
   "execution_count": 18,
   "metadata": {},
   "outputs": [
    {
     "data": {
      "image/png": "[encoded data removed]",
      "text/plain": [
       "<Figure size 576x576 with 1 Axes>"
      ]
     },
     "metadata": {},
     "output_type": "display_data"
    }
   ],
   "source": [
    "symbs = iter(['o', '^', 'x', '*'])\n",
    "clrs = iter([palette[x] for x in [1, 2, 8, 9, 16, 17, 18, 19]])\n",
    "\n",
    "def plotA(n):\n",
    "    diametro = diametri[n]\n",
    "    arr = mA[n]\n",
    "    fit = fitsA[n]\n",
    "\n",
    "    #\n",
    "\n",
    "    X = distsA\n",
    "    Y = arr\n",
    "    # Yerr = [cronometro_sig for _ in range(11)]\n",
    "    Yerr = mA_sig[n]\n",
    "\n",
    "    plt.errorbar(X, Y, Yerr, fmt=next(symbs), capsize=3, label='Tempo percorrenza ' + str(n+1), color=next(clrs))\n",
    "    \n",
    "    #\n",
    "\n",
    "    fn = lambda x: fit[2] * x + fit[0]\n",
    "    Y = [fn(x) for x in X]\n",
    "    \n",
    "    plt.plot(X, Y, '-', label='Fit ' + str(n+1), color=next(clrs))\n",
    "\n",
    "    #\n",
    "\n",
    "    plt.xlabel('Distanza percorsa [m]')\n",
    "    plt.ylabel('Tempo impiegato [s]')\n",
    "\n",
    "    plt.xlim(-.05,.55)\n",
    "    plt.ylim(-60,295)\n",
    "\n",
    "    # plt.show()\n",
    "\n",
    "plt.figure(figsize=(8,8))\n",
    "\n",
    "for i, _ in enumerate(mA):\n",
    "    plotA(i)\n",
    "\n",
    "order = [4,5,6,7,0,1,2,3]\n",
    "handles, labels = plt.gca().get_legend_handles_labels()\n",
    "plt.legend([handles[i] for i in order],[labels[i] for i in order], loc='lower right', ncol=2)\n",
    "\n",
    "mx = -.045\n",
    "my = -.035\n",
    "plt.text(0.08+mx, 0.98+my, '$D_1$ = 1.5mm', horizontalalignment='left', verticalalignment='center', transform=plt.gca().transAxes)\n",
    "plt.text(0.08+mx, 0.95+my, '$D_2$ = 2\"/32', horizontalalignment='left', verticalalignment='center', transform=plt.gca().transAxes)\n",
    "plt.text(0.08+mx, 0.92+my, '$D_3$ = 2.0mm', horizontalalignment='left', verticalalignment='center', transform=plt.gca().transAxes)\n",
    "plt.text(0.08+mx, 0.89+my, '$D_4$ = 3\"/32', horizontalalignment='left', verticalalignment='center', transform=plt.gca().transAxes)\n",
    "\n",
    "plt.savefig(graph_base_name+'set1', dpi=200)\n"
   ]
  },
  {
   "cell_type": "code",
   "execution_count": 19,
   "metadata": {},
   "outputs": [
    {
     "data": {
      "text/plain": [
       "array([0.0011553 , 0.0011154 , 0.00113954, 0.00110531])"
      ]
     },
     "execution_count": 19,
     "metadata": {},
     "output_type": "execute_result"
    }
   ],
   "source": [
    "(np.array(diametri[:4]) ** 2) * np.array([x[2] for x in fitsA])"
   ]
  },
  {
   "cell_type": "markdown",
   "metadata": {},
   "source": [
    "## B"
   ]
  },
  {
   "cell_type": "markdown",
   "metadata": {},
   "source": [
    "### Import"
   ]
  },
  {
   "cell_type": "code",
   "execution_count": 20,
   "metadata": {},
   "outputs": [],
   "source": [
    "fB = glob.glob('./misure/B*')\n",
    "\n",
    "lB = [np.genfromtxt(f).T for f in fB]"
   ]
  },
  {
   "cell_type": "markdown",
   "metadata": {},
   "source": [
    "### Medie"
   ]
  },
  {
   "cell_type": "code",
   "execution_count": 21,
   "metadata": {},
   "outputs": [
    {
     "data": {
      "text/plain": [
       "[array([ 0.     , 10.57986, 21.01662, 31.78552, 42.45284, 53.093  ]),\n",
       " array([ 0.     ,  6.6448 , 13.2958 , 19.94308, 26.53912, 33.23394])]"
      ]
     },
     "execution_count": 21,
     "metadata": {},
     "output_type": "execute_result"
    }
   ],
   "source": [
    "mB = [x.mean(axis=0) for x in lB]\n",
    "mB"
   ]
  },
  {
   "cell_type": "code",
   "execution_count": 22,
   "metadata": {},
   "outputs": [
    {
     "data": {
      "text/plain": [
       "[array([0.        , 0.01265241, 0.2028749 , 0.03280228, 0.05343034,\n",
       "        0.02362577]),\n",
       " array([0.        , 0.03624092, 0.01334099, 0.0300806 , 0.02560028,\n",
       "        0.03142276])]"
      ]
     },
     "execution_count": 22,
     "metadata": {},
     "output_type": "execute_result"
    }
   ],
   "source": [
    "mB_sig = [np.apply_along_axis(fn_sdom, 0, x) for x in lB]\n",
    "mB_sig"
   ]
  },
  {
   "cell_type": "markdown",
   "metadata": {},
   "source": [
    "### Fit velocità"
   ]
  },
  {
   "cell_type": "code",
   "execution_count": 23,
   "metadata": {},
   "outputs": [
    {
     "data": {
      "text/plain": [
       "[(-0.07294380952381677,\n",
       "  0.06714309750852095,\n",
       "  106.24366857142859,\n",
       "  0.22176635230568273),\n",
       " (0.0023180952380961284,\n",
       "  0.01498176711071187,\n",
       "  66.42855428571428,\n",
       "  0.04948314817936685)]"
      ]
     },
     "execution_count": 23,
     "metadata": {},
     "output_type": "execute_result"
    }
   ],
   "source": [
    "distsB = np.array([x*10/100 for x in range(0,6)])\n",
    "\n",
    "fitsB = [fit(distsB,x) for x in mB]\n",
    "fitsB"
   ]
  },
  {
   "cell_type": "code",
   "execution_count": 24,
   "metadata": {},
   "outputs": [
    {
     "data": {
      "text/plain": [
       "[0.009412325585573044, 0.015053767325703396]"
      ]
     },
     "execution_count": 24,
     "metadata": {},
     "output_type": "execute_result"
    }
   ],
   "source": [
    "vlB = [1/x for x in [y[2] for y in fitsB]]\n",
    "vlB"
   ]
  },
  {
   "cell_type": "code",
   "execution_count": 25,
   "metadata": {},
   "outputs": [
    {
     "data": {
      "text/plain": [
       "[1.9646696503355846e-05, 1.1213668688792878e-05]"
      ]
     },
     "execution_count": 25,
     "metadata": {},
     "output_type": "execute_result"
    }
   ],
   "source": [
    "vlB_sig = []\n",
    "\n",
    "for i in range(len(vlB)):\n",
    "    x = fitsB[i][2]\n",
    "    x_sig = fitsB[i][3]\n",
    "\n",
    "    s = x_sig / x**2\n",
    "    vlB_sig.append(s)\n",
    "\n",
    "vlB_sig\n",
    "    "
   ]
  },
  {
   "cell_type": "markdown",
   "metadata": {},
   "source": [
    "### Plot velocità limite"
   ]
  },
  {
   "cell_type": "code",
   "execution_count": 26,
   "metadata": {},
   "outputs": [
    {
     "data": {
      "image/png": "[encoded data removed]",
      "text/plain": [
       "<Figure size 576x576 with 1 Axes>"
      ]
     },
     "metadata": {},
     "output_type": "display_data"
    }
   ],
   "source": [
    "symbs = iter(['o', '^', 'x', '*'])\n",
    "clrs = iter([palette[x] for x in [1, 2, 8, 9, 16, 17, 18, 19]])\n",
    "\n",
    "def plotB(n):\n",
    "    diametro = diametri[n]\n",
    "    arr = mB[n]\n",
    "    fit = fitsB[n]\n",
    "\n",
    "    #\n",
    "\n",
    "    X = distsB\n",
    "    Y = arr\n",
    "    # Yerr = [cronometro_sig for _ in range(6)]\n",
    "    Yerr = mB_sig[n]\n",
    "\n",
    "    n = n+4\n",
    "    \n",
    "    plt.errorbar(X, Y, Yerr, fmt=next(symbs), capsize=3, label='Tempo percorrenza ' + str(n+1), color=next(clrs))\n",
    "    \n",
    "    #\n",
    "\n",
    "    fn = lambda x: fit[2] * x + fit[0]\n",
    "    Y = [fn(x) for x in X]\n",
    "    \n",
    "    plt.plot(X, Y, '-', label='Fit ' + str(n+1), color=next(clrs))\n",
    "\n",
    "    #\n",
    "\n",
    "    plt.xlabel('Distanza percorsa [m]')\n",
    "    plt.ylabel('Tempo impiegato [s]')\n",
    "\n",
    "    plt.xlim(-.05,.55)\n",
    "    plt.ylim(-15,70)\n",
    "\n",
    "    # plt.show()\n",
    "\n",
    "plt.figure(figsize=(8,8))\n",
    "\n",
    "for i, _ in enumerate(mB):\n",
    "    plotB(i)\n",
    "\n",
    "order = [2,3,0,1]\n",
    "handles, labels = plt.gca().get_legend_handles_labels()\n",
    "plt.legend([handles[i] for i in order],[labels[i] for i in order], loc='lower right', ncol=2)\n",
    "\n",
    "mx = -.045\n",
    "my = -.035\n",
    "plt.text(0.08+mx, 0.98+my, '$D_5$ = 4\"/32', horizontalalignment='left', verticalalignment='center', transform=plt.gca().transAxes)\n",
    "plt.text(0.08+mx, 0.95+my, '$D_6$ = 5\"/32', horizontalalignment='left', verticalalignment='center', transform=plt.gca().transAxes)\n",
    "\n",
    "plt.savefig(graph_base_name+'set2', dpi=200)\n"
   ]
  },
  {
   "cell_type": "code",
   "execution_count": 27,
   "metadata": {},
   "outputs": [
    {
     "data": {
      "text/plain": [
       "array([0.001071  , 0.00104631])"
      ]
     },
     "execution_count": 27,
     "metadata": {},
     "output_type": "execute_result"
    }
   ],
   "source": [
    "(np.array(diametri[4:6]) ** 2) * np.array([x[2] for x in fitsB])"
   ]
  },
  {
   "cell_type": "markdown",
   "metadata": {},
   "source": [
    "## C"
   ]
  },
  {
   "cell_type": "markdown",
   "metadata": {},
   "source": [
    "### Import"
   ]
  },
  {
   "cell_type": "code",
   "execution_count": 28,
   "metadata": {},
   "outputs": [],
   "source": [
    "fC = glob.glob('./misure/C*')\n",
    "\n",
    "lC = [np.genfromtxt(f).T for f in fC]"
   ]
  },
  {
   "cell_type": "markdown",
   "metadata": {},
   "source": [
    "### Medie"
   ]
  },
  {
   "cell_type": "code",
   "execution_count": 29,
   "metadata": {},
   "outputs": [
    {
     "data": {
      "text/plain": [
       "[array([ 0.    , 21.9868]),\n",
       " array([ 0.     , 14.96592]),\n",
       " array([0.     , 9.27546]),\n",
       " array([0.     , 4.98606])]"
      ]
     },
     "execution_count": 29,
     "metadata": {},
     "output_type": "execute_result"
    }
   ],
   "source": [
    "mC = [x.mean(axis=0) for x in lC]\n",
    "mC"
   ]
  },
  {
   "cell_type": "markdown",
   "metadata": {},
   "source": [
    "### Fit velocità"
   ]
  },
  {
   "cell_type": "code",
   "execution_count": 30,
   "metadata": {},
   "outputs": [],
   "source": [
    "distsC = np.array([0, 50/100])"
   ]
  },
  {
   "cell_type": "code",
   "execution_count": 31,
   "metadata": {},
   "outputs": [
    {
     "data": {
      "text/plain": [
       "array([21.9868 , 14.96592,  9.27546,  4.98606])"
      ]
     },
     "execution_count": 31,
     "metadata": {},
     "output_type": "execute_result"
    }
   ],
   "source": [
    "tempiC = np.array([x[1] for x in mC])\n",
    "tempiC"
   ]
  },
  {
   "cell_type": "code",
   "execution_count": 32,
   "metadata": {},
   "outputs": [
    {
     "data": {
      "text/plain": [
       "[0.022740917277639314,\n",
       " 0.03340923912462448,\n",
       " 0.05390568230578322,\n",
       " 0.10027957946755554]"
      ]
     },
     "execution_count": 32,
     "metadata": {},
     "output_type": "execute_result"
    }
   ],
   "source": [
    "vlC = [.5 / x for x in tempiC]\n",
    "vlC"
   ]
  },
  {
   "cell_type": "code",
   "execution_count": 33,
   "metadata": {},
   "outputs": [
    {
     "data": {
      "text/plain": [
       "[0.0007580305761173178,\n",
       " 0.0011136413047756599,\n",
       " 0.0017968560794701133,\n",
       " 0.0033426526657253657]"
      ]
     },
     "execution_count": 33,
     "metadata": {},
     "output_type": "execute_result"
    }
   ],
   "source": [
    "vlC_sig = []\n",
    "\n",
    "for i in range(4):\n",
    "    S = .5\n",
    "    T = tempiC[i]\n",
    "    sigS = 0.05/3\n",
    "    sigT = 0.00005/3\n",
    "\n",
    "    sig = ((sigS/T)**2 + ((S*sigT)/T**2)**2) ** .5\n",
    "    vlC_sig.append(sig)\n",
    "\n",
    "vlC_sig"
   ]
  },
  {
   "cell_type": "markdown",
   "metadata": {},
   "source": [
    "### Plot velocità limite"
   ]
  },
  {
   "cell_type": "code",
   "execution_count": 34,
   "metadata": {},
   "outputs": [
    {
     "data": {
      "image/png": "[encoded data removed]",
      "text/plain": [
       "<Figure size 576x576 with 1 Axes>"
      ]
     },
     "metadata": {},
     "output_type": "display_data"
    }
   ],
   "source": [
    "symbs = iter(['o', '^', 'x', '*'])\n",
    "clrs = iter([palette[x] for x in [1, 2, 8, 9, 16, 17, 18, 19]])\n",
    "\n",
    "def plotC(n):\n",
    "    diametro = diametri[n]\n",
    "    arr = mC[n]\n",
    "    tmp = tempiC[n]\n",
    "    n = n+6\n",
    "\n",
    "    #\n",
    "\n",
    "    X = distsC\n",
    "    Y = arr\n",
    "    Yerr = [cronometro_sig for _ in range(2)]\n",
    "\n",
    "    plt.errorbar(X, Y, Yerr, fmt=next(symbs), capsize=3, label='Tempo percorrenza ' + str(n+1), color=next(clrs))\n",
    "    \n",
    "    #\n",
    "\n",
    "    plt.plot([0, .5], [0, tmp], '-', label='Fit ' + str(n+1), color=next(clrs))\n",
    "\n",
    "    #\n",
    "\n",
    "    plt.xlabel('Distanza percorsa [m]')\n",
    "    plt.ylabel('Tempo impiegato [s]')\n",
    "\n",
    "    plt.xlim(-.05,.55)\n",
    "    plt.ylim(-5,25)\n",
    "\n",
    "    # plt.show()\n",
    "\n",
    "plt.figure(figsize=(8,8))\n",
    "\n",
    "for i, _ in enumerate(mC):\n",
    "    plotC(i)\n",
    "\n",
    "order = [4,5,6,7,0,1,2,3]\n",
    "handles, labels = plt.gca().get_legend_handles_labels()\n",
    "plt.legend([handles[i] for i in order],[labels[i] for i in order], loc='lower right', ncol=2)\n",
    "\n",
    "mx = -.045\n",
    "my = -.035\n",
    "plt.text(0.08+mx, 0.98+my, '$D_7$ = 6\"/32', horizontalalignment='left', verticalalignment='center', transform=plt.gca().transAxes)\n",
    "plt.text(0.08+mx, 0.95+my, '$D_8$ = 7\"/32', horizontalalignment='left', verticalalignment='center', transform=plt.gca().transAxes)\n",
    "plt.text(0.08+mx, 0.92+my, '$D_9$ = 8\"/32', horizontalalignment='left', verticalalignment='center', transform=plt.gca().transAxes)\n",
    "plt.text(0.08+mx, 0.89+my, '$D_{10}$ = 9\"/32', horizontalalignment='left', verticalalignment='center', transform=plt.gca().transAxes)\n",
    "\n",
    "plt.savefig(graph_base_name+'set3', dpi=200)\n"
   ]
  },
  {
   "cell_type": "code",
   "execution_count": 35,
   "metadata": {},
   "outputs": [
    {
     "data": {
      "text/plain": [
       "array([0.00099738, 0.00092405, 0.00074802, 0.00050891])"
      ]
     },
     "execution_count": 35,
     "metadata": {},
     "output_type": "execute_result"
    }
   ],
   "source": [
    "(np.array(diametri[6:]) ** 2) / vlC"
   ]
  },
  {
   "cell_type": "markdown",
   "metadata": {},
   "source": [
    "## Calcolo viscosità"
   ]
  },
  {
   "cell_type": "markdown",
   "metadata": {},
   "source": [
    "### Velicità limite"
   ]
  },
  {
   "cell_type": "code",
   "execution_count": 215,
   "metadata": {},
   "outputs": [
    {
     "data": {
      "text/plain": [
       "array([0.00194755, 0.00225943, 0.0035102 , 0.0051301 , 0.00941233,\n",
       "       0.01505377, 0.02274092, 0.03340924, 0.05390568, 0.10027958])"
      ]
     },
     "execution_count": 215,
     "metadata": {},
     "output_type": "execute_result"
    }
   ],
   "source": [
    "vl = np.array(vlA + vlB + vlC)\n",
    "vl"
   ]
  },
  {
   "cell_type": "code",
   "execution_count": 216,
   "metadata": {},
   "outputs": [
    {
     "data": {
      "text/plain": [
       "array([7.48265623e-07, 1.37724836e-06, 1.51863594e-06, 3.83360257e-06,\n",
       "       1.96466965e-05, 1.12136687e-05, 7.58030576e-04, 1.11364130e-03,\n",
       "       1.79685608e-03, 3.34265267e-03])"
      ]
     },
     "execution_count": 216,
     "metadata": {},
     "output_type": "execute_result"
    }
   ],
   "source": [
    "vl_sig = np.array(vlA_sig + vlB_sig + vlC_sig)\n",
    "vl_sig"
   ]
  },
  {
   "cell_type": "markdown",
   "metadata": {},
   "source": [
    "### Viscosità pes"
   ]
  },
  {
   "cell_type": "code",
   "execution_count": 217,
   "metadata": {},
   "outputs": [],
   "source": [
    "viscs = np.array(((diametri ** 2) * acc_gravita * (rho_acciaio - rho_liquido)) / (18 * vl))"
   ]
  },
  {
   "cell_type": "code",
   "execution_count": 218,
   "metadata": {},
   "outputs": [
    {
     "data": {
      "text/plain": [
       "array([4.30371083, 4.15506676, 4.24498938, 4.11749386, 3.98968858,\n",
       "       3.89772116, 3.71544194, 3.44227412, 2.78651499, 1.89578233])"
      ]
     },
     "execution_count": 218,
     "metadata": {},
     "output_type": "execute_result"
    }
   ],
   "source": [
    "viscs"
   ]
  },
  {
   "cell_type": "code",
   "execution_count": 219,
   "metadata": {},
   "outputs": [
    {
     "data": {
      "text/plain": [
       "[0.05749793847062893,\n",
       " 0.05250175181487833,\n",
       " 0.04260954992038867,\n",
       " 0.034857263739265246,\n",
       " 0.026645477083121205,\n",
       " 0.020071027250442904,\n",
       " 0.12485837331969023,\n",
       " 0.11543861804720314,\n",
       " 0.09332111438613655,\n",
       " 0.06343129080798225]"
      ]
     },
     "execution_count": 219,
     "metadata": {},
     "output_type": "execute_result"
    }
   ],
   "source": [
    "viscs_sig = []\n",
    "\n",
    "for i in range(10):\n",
    "    D = diametri[i]\n",
    "    v = vl[i]\n",
    "    v_sig = vl_sig[i]\n",
    "\n",
    "    d1 = (D * acc_gravita * (rho_acciaio - rho_liquido) * diametri_sig) / (9 * v)\n",
    "    d2 = (D**2 * (rho_acciaio - rho_liquido) * acc_gravita_sig) / (18 * v)\n",
    "    d3 = (D**2 * acc_gravita * rho_acciaio_sig) / (18 * v)\n",
    "    d4 = (D**2 * acc_gravita * rho_liquido_sig) / (18 * v)\n",
    "    d5 = (D**2 * acc_gravita * (rho_acciaio - rho_liquido) * v_sig) / (18 * v**2)\n",
    "\n",
    "    sig = (d1**2 + d2**2 + d3**2 + d4**2 + d5**2) ** .5\n",
    "    viscs_sig.append(sig)\n",
    "\n",
    "viscs_sig"
   ]
  },
  {
   "cell_type": "code",
   "execution_count": 220,
   "metadata": {},
   "outputs": [
    {
     "data": {
      "text/plain": [
       "array([ 302.47915591,  362.78758006,  550.79007563,  823.02573476,\n",
       "       1408.48750545, 2482.33733278,   64.14527257,   75.04085297,\n",
       "        114.82598181,  248.53805853])"
      ]
     },
     "execution_count": 220,
     "metadata": {},
     "output_type": "execute_result"
    }
   ],
   "source": [
    "viscs_pesi = np.array([1/x**2 for x in viscs_sig])\n",
    "viscs_pesi"
   ]
  },
  {
   "cell_type": "code",
   "execution_count": 221,
   "metadata": {},
   "outputs": [
    {
     "data": {
      "text/plain": [
       "3.905001086716213"
      ]
     },
     "execution_count": 221,
     "metadata": {},
     "output_type": "execute_result"
    }
   ],
   "source": [
    "visc_pes = np.sum(viscs * viscs_pesi) / np.sum(viscs_pesi)\n",
    "visc_pes"
   ]
  },
  {
   "cell_type": "code",
   "execution_count": 222,
   "metadata": {},
   "outputs": [
    {
     "data": {
      "text/plain": [
       "0.012468423228747142"
      ]
     },
     "execution_count": 222,
     "metadata": {},
     "output_type": "execute_result"
    }
   ],
   "source": [
    "visc_pes_sig = 1/(np.sum(viscs_pesi))**.5\n",
    "visc_pes_sig"
   ]
  },
  {
   "cell_type": "markdown",
   "metadata": {},
   "source": [
    "### Plot diametri / velocità"
   ]
  },
  {
   "cell_type": "code",
   "execution_count": 223,
   "metadata": {},
   "outputs": [
    {
     "data": {
      "text/plain": [
       "array([513.46646545, 442.59046909, 284.88405091, 194.92812   ,\n",
       "       106.24366857,  66.42855429,  43.9736    ,  29.93184   ,\n",
       "        18.55092   ,   9.97212   ])"
      ]
     },
     "execution_count": 223,
     "metadata": {},
     "output_type": "execute_result"
    }
   ],
   "source": [
    "inv_vl = 1 / vl\n",
    "inv_vl"
   ]
  },
  {
   "cell_type": "code",
   "execution_count": 224,
   "metadata": {},
   "outputs": [
    {
     "data": {
      "text/plain": [
       "array([0.19727859, 0.26978412, 0.12325086, 0.14566529, 0.22176635,\n",
       "       0.04948315, 1.46578667, 0.997728  , 0.618364  , 0.332404  ])"
      ]
     },
     "execution_count": 224,
     "metadata": {},
     "output_type": "execute_result"
    }
   ],
   "source": [
    "inv_vl_sig = vl_sig / vl**2\n",
    "inv_vl_sig"
   ]
  },
  {
   "cell_type": "code",
   "execution_count": 225,
   "metadata": {},
   "outputs": [
    {
     "data": {
      "text/plain": [
       "(-9.09738271022678,\n",
       " 2.0453486562456273,\n",
       " 0.0011616707788379022,\n",
       " 9.470357260093309e-06)"
      ]
     },
     "execution_count": 225,
     "metadata": {},
     "output_type": "execute_result"
    }
   ],
   "source": [
    "fitsP = fit(1/diametri**2, 1/vl)\n",
    "fitsP"
   ]
  },
  {
   "cell_type": "code",
   "execution_count": 240,
   "metadata": {},
   "outputs": [
    {
     "data": {
      "image/png": "[encoded data removed]",
      "text/plain": [
       "<Figure size 576x576 with 1 Axes>"
      ]
     },
     "metadata": {},
     "output_type": "display_data"
    }
   ],
   "source": [
    "def plot():\n",
    "    plt.figure(figsize=(8,8))\n",
    "\n",
    "    plt.errorbar(1/diametri**2, inv_vl, inv_vl_sig, fmt='o', capsize=3, label='($D_j^{-2}$,$v_{L,j}^{-1}$)', color=palette[1])\n",
    "    \n",
    "\n",
    "    fn = lambda x: fitsP[2]*x + fitsP[0]\n",
    "    plt.plot([-10,460000], [fn(-10), fn(460000)], label='Fit', color=palette[16])\n",
    "\n",
    "    plt.xlabel('1/$D^2$ [$m^{-2}$]')\n",
    "    plt.ylabel('1/$v_L$ [$s\\\\cdot m^{-1}$]')\n",
    "\n",
    "    order = [1,0]\n",
    "    handles, labels = plt.gca().get_legend_handles_labels()\n",
    "    plt.legend([handles[i] for i in order],[labels[i] for i in order], loc='lower right', ncol=1)\n",
    "\n",
    "    plt.savefig(graph_base_name+'inv_su_inv', dpi=200)\n",
    "\n",
    "plot()"
   ]
  },
  {
   "cell_type": "code",
   "execution_count": 227,
   "metadata": {},
   "outputs": [],
   "source": [
    "B = fitsP[2]\n",
    "B_sig = fitsP[3]"
   ]
  },
  {
   "cell_type": "code",
   "execution_count": 228,
   "metadata": {},
   "outputs": [
    {
     "data": {
      "text/plain": [
       "4.327444884917288"
      ]
     },
     "execution_count": 228,
     "metadata": {},
     "output_type": "execute_result"
    }
   ],
   "source": [
    "visc = B * acc_gravita * (rho_acciaio - rho_liquido) / 18\n",
    "visc"
   ]
  },
  {
   "cell_type": "code",
   "execution_count": 229,
   "metadata": {},
   "outputs": [
    {
     "data": {
      "text/plain": [
       "0.035428907551254954"
      ]
     },
     "execution_count": 229,
     "metadata": {},
     "output_type": "execute_result"
    }
   ],
   "source": [
    "d1 = acc_gravita * (rho_acciaio - rho_liquido) * B_sig / 18\n",
    "d2 = B * (rho_acciaio - rho_liquido) * acc_gravita_sig / 18\n",
    "d3 = B * acc_gravita * rho_acciaio_sig / 18\n",
    "d4 = B * acc_gravita * rho_liquido_sig / 18\n",
    "\n",
    "visc_sig = (d1**2 + d2**2 + d3**2 + d4**2) ** .5\n",
    "visc_sig"
   ]
  },
  {
   "cell_type": "markdown",
   "metadata": {},
   "source": [
    "### Plot confronto"
   ]
  },
  {
   "cell_type": "code",
   "execution_count": 231,
   "metadata": {},
   "outputs": [
    {
     "data": {
      "image/png": "[encoded data removed]",
      "text/plain": [
       "<Figure size 576x360 with 1 Axes>"
      ]
     },
     "metadata": {},
     "output_type": "display_data"
    }
   ],
   "source": [
    "def plot4():\n",
    "    X = [0, 1]\n",
    "    Xlab = ['$\\eta$', '$\\eta_{pes}$']\n",
    "\n",
    "    Y = [visc_pes, visc]\n",
    "    Yerr = [visc_pes_sig, visc_sig]\n",
    "\n",
    "    plt.figure(figsize=(8,5))\n",
    "\n",
    "    plt.errorbar([0], Y[0], Yerr[0], fmt='*', capsize=6, color=palette[6], label='$\\eta$')\n",
    "    plt.errorbar([1], Y[1], Yerr[1], fmt='o', capsize=6, color=palette[12], label='$\\eta_{pes}$')\n",
    "\n",
    "    plt.gca().grid(axis='x')\n",
    "\n",
    "    plt.xlim(-.6,1.6)\n",
    "    # plt.ylim(0.003,0.005)\n",
    "\n",
    "    plt.xticks(X, Xlab)\n",
    "    plt.ylabel('Viscosità [$kg \\\\cdot m^{-1} \\\\cdot s^{-1}$]')\n",
    "\n",
    "    plt.legend(loc='upper right')\n",
    "    \n",
    "    plt.savefig(graph_base_name+'viscosita', dpi=200)\n",
    "\n",
    "plot4()"
   ]
  },
  {
   "cell_type": "markdown",
   "metadata": {},
   "source": [
    "## Export Excel"
   ]
  },
  {
   "cell_type": "code",
   "execution_count": 13,
   "metadata": {},
   "outputs": [],
   "source": [
    "pd.DataFrame(mA).to_excel('dump.xlsx')"
   ]
  },
  {
   "cell_type": "code",
   "execution_count": 14,
   "metadata": {},
   "outputs": [],
   "source": [
    "pd.DataFrame(mA_sig).to_excel('dump.xlsx')"
   ]
  },
  {
   "cell_type": "code",
   "execution_count": 36,
   "metadata": {},
   "outputs": [],
   "source": [
    "pd.DataFrame(mB).to_excel('dump.xlsx')"
   ]
  },
  {
   "cell_type": "code",
   "execution_count": 37,
   "metadata": {},
   "outputs": [],
   "source": [
    "pd.DataFrame(mB_sig).to_excel('dump.xlsx')"
   ]
  },
  {
   "cell_type": "code",
   "execution_count": 38,
   "metadata": {},
   "outputs": [],
   "source": [
    "pd.DataFrame(mC).to_excel('dump.xlsx')"
   ]
  },
  {
   "cell_type": "code",
   "execution_count": null,
   "metadata": {},
   "outputs": [],
   "source": []
  }
 ],
 "metadata": {
  "interpreter": {
   "hash": "ef9d2e2c39c8bbaaac17213ec19f6441f3cdbbb893e1093155d427e0145955e7"
  },
  "kernelspec": {
   "display_name": "Python 3.10.0 ('sperimB')",
   "language": "python",
   "name": "python3"
  },
  "language_info": {
   "codemirror_mode": {
    "name": "ipython",
    "version": 3
   },
   "file_extension": ".py",
   "mimetype": "text/x-python",
   "name": "python",
   "nbconvert_exporter": "python",
   "pygments_lexer": "ipython3",
   "version": "3.10.0"
  },
  "orig_nbformat": 4
 },
 "nbformat": 4,
 "nbformat_minor": 2
}
